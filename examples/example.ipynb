{
  "cells": [
    {
      "cell_type": "markdown",
      "metadata": {},
      "source": [
        "# Ejemplo de uso de Numero de Especies BioModelos\n",
        "\n",
        "Este notebook muestra c\u00f3mo usar la librer\u00eda para identificar especies presentes en un AOI usando rasters de ejemplo."
      ]
    },
    {
      "cell_type": "code",
      "execution_count": null,
      "metadata": {},
      "outputs": [],
      "source": [
        "from numero_biomodelos.numero_especies import (\n",
        "    especies_en_area,\n",
        "    verificar_y_transformar_crs_shapefile,\n",
        ")\n",
        "\n",
        "# Directorios de ejemplo\n",
        "directorios = [\"examples/rasters_ejemplo/\"]\n",
        "shapefile = \"examples/shape_ejemplo/shape_ejemplo.shp\"\n",
        "\n",
        "# Verificar AOI\n",
        "shapefile = verificar_y_transformar_crs_shapefile(shapefile)\n",
        "\n",
        "# Evaluar especies presentes\n",
        "resultado = especies_en_area(directorios, shapefile)\n",
        "resultado"
      ]
    }
  ],
  "metadata": {
    "kernelspec": {
      "display_name": "Python 3",
      "language": "python",
      "name": "python3"
    },
    "language_info": {
      "file_extension": ".py",
      "mimetype": "text/x-python",
      "name": "python",
      "pygments_lexer": "ipython3"
    }
  },
  "nbformat": 4,
  "nbformat_minor": 2
}